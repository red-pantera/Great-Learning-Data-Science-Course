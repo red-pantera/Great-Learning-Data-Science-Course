{
 "cells": [
  {
   "cell_type": "markdown",
   "metadata": {
    "id": "gVJ0yjkPmi-F"
   },
   "source": [
    "<img src=\"http://drive.google.com/uc?export=view&id=1tpOCamr9aWz817atPnyXus8w5gJ3mIts\" width=500px>"
   ]
  },
  {
   "cell_type": "markdown",
   "metadata": {
    "id": "DRWozUx1mgH0"
   },
   "source": [
    "<h1>Python for ML </h1>"
   ]
  },
  {
   "cell_type": "markdown",
   "metadata": {
    "id": "5VpFa0-hmgH-"
   },
   "source": [
    "## Practice Solution Notebook "
   ]
  },
  {
   "cell_type": "markdown",
   "metadata": {
    "id": "J0ndny1rmgH_"
   },
   "source": [
    "<h3>Notebook Structure </h3>"
   ]
  },
  {
   "cell_type": "markdown",
   "metadata": {
    "id": "YzBMpnx2mgIA"
   },
   "source": [
    "We will cover variables, operators, datastructures, and functions.\n",
    "- i) Variable\n",
    "- ii) Datastructures with loops\n",
    "- iii) Functions\n"
   ]
  },
  {
   "cell_type": "markdown",
   "metadata": {
    "id": "RLL239GsmgIA"
   },
   "source": [
    "<h2>Variables </h2>"
   ]
  },
  {
   "cell_type": "markdown",
   "metadata": {
    "id": "EzOVXIghmgIB"
   },
   "source": [
    "1. Write a program to swap the values of variables without using any arithmetic operators.\n",
    "- Given a=10, b=20        \n",
    "- Expected o/p:- a=20,b=10"
   ]
  },
  {
   "cell_type": "code",
   "execution_count": null,
   "metadata": {
    "id": "9S2JC7RpmgIB"
   },
   "outputs": [],
   "source": [
    "a=10\n",
    "b=20\n",
    "a,b=b,a"
   ]
  },
  {
   "cell_type": "code",
   "execution_count": null,
   "metadata": {
    "id": "Pz3TIBVvmgIC",
    "outputId": "97a4680b-941e-40d2-dbb3-56e5e3b5f2ea"
   },
   "outputs": [
    {
     "name": "stdout",
     "output_type": "stream",
     "text": [
      "20 10\n"
     ]
    }
   ],
   "source": [
    "print(a,b)"
   ]
  },
  {
   "cell_type": "markdown",
   "metadata": {
    "id": "1it6Ful7mgIE"
   },
   "source": [
    "2. Write a program to reverse a string without using any loop. \n",
    "- Given string ='greatlearning'  \n",
    "- Expected o/p:- 'gninraeltaerg'"
   ]
  },
  {
   "cell_type": "code",
   "execution_count": null,
   "metadata": {
    "id": "mdMbfC6TmgIF",
    "outputId": "82df943f-9bdd-4727-95a6-b08d1883dd37"
   },
   "outputs": [
    {
     "data": {
      "text/plain": [
       "'gninraeltaerg'"
      ]
     },
     "execution_count": 7,
     "metadata": {
      "tags": []
     },
     "output_type": "execute_result"
    }
   ],
   "source": [
    "name='greatlearning'\n",
    "name_rev=name[::-1]\n",
    "name_rev"
   ]
  },
  {
   "cell_type": "markdown",
   "metadata": {
    "id": "FF6TedWymgIF"
   },
   "source": [
    "3. Write a program to split a string into blank space without using loop.\n",
    "- Hint: Use built-in functions of python.\n",
    "- Given String: \" Hello folks Welcome to greatlearning \""
   ]
  },
  {
   "cell_type": "code",
   "execution_count": null,
   "metadata": {
    "id": "ATILZOHMmgIG",
    "outputId": "ffcc04f9-4445-4c0b-9c87-ee51575b0583"
   },
   "outputs": [
    {
     "data": {
      "text/plain": [
       "['Hello', 'folks', 'Welcome', 'to', 'greatlearning']"
      ]
     },
     "execution_count": 10,
     "metadata": {
      "tags": []
     },
     "output_type": "execute_result"
    }
   ],
   "source": [
    "sentence=\" Hello folks Welcome to greatlearning \"\n",
    "split=sentence.split()\n",
    "split"
   ]
  },
  {
   "cell_type": "markdown",
   "metadata": {
    "id": "81C5WTyjmgIG"
   },
   "source": [
    "<h2>Data Structures </h2>"
   ]
  },
  {
   "cell_type": "markdown",
   "metadata": {
    "id": "TwvAcvy5mgIH"
   },
   "source": [
    "<h3> List </h3>"
   ]
  },
  {
   "cell_type": "markdown",
   "metadata": {
    "id": "PELpdOgjmgII"
   },
   "source": [
    "4. Write a program to sum all the items of a list. \n",
    "- Given list x=[5,3,8,9,14] \n",
    "- Expected o/p: 39"
   ]
  },
  {
   "cell_type": "code",
   "execution_count": null,
   "metadata": {
    "id": "adyKrCxJmgIJ",
    "outputId": "22561a73-b731-451e-df31-a509aa4ed0cc"
   },
   "outputs": [
    {
     "name": "stdout",
     "output_type": "stream",
     "text": [
      "addition of the elements of the list: 39\n"
     ]
    }
   ],
   "source": [
    "x=[5,3,8,9,14]\n",
    "add=0\n",
    "for i in x:\n",
    "    add=add+i\n",
    "print(\"addition of the elements of the list:\",add)"
   ]
  },
  {
   "cell_type": "markdown",
   "metadata": {
    "id": "q26XdkZlmgIJ"
   },
   "source": [
    "5. Write a program to multiply all the items of a list. \n",
    "- Given list y = [6,8,12,14,15]"
   ]
  },
  {
   "cell_type": "code",
   "execution_count": null,
   "metadata": {
    "id": "h1kMs5famgIK",
    "outputId": "1a3699ac-a0df-485c-de4b-02b5e2a61208"
   },
   "outputs": [
    {
     "name": "stdout",
     "output_type": "stream",
     "text": [
      "120960\n"
     ]
    }
   ],
   "source": [
    "y=[6,8,12,14,15]\n",
    "\n",
    "mul=1\n",
    "for i in y:\n",
    "    mul*=i\n",
    "\n",
    "print(mul)"
   ]
  },
  {
   "cell_type": "markdown",
   "metadata": {
    "id": "-ZClCx_6mgIK"
   },
   "source": [
    "6. Write a program to check if a list is empty or not."
   ]
  },
  {
   "cell_type": "code",
   "execution_count": null,
   "metadata": {
    "id": "B49fDmF-mgIL",
    "outputId": "bf18985d-f145-4b77-ed4f-4e2c24629788"
   },
   "outputs": [
    {
     "name": "stdout",
     "output_type": "stream",
     "text": [
      "list is empty\n"
     ]
    }
   ],
   "source": [
    "a=[]\n",
    "if not a:\n",
    "    print(\"list is empty\")\n",
    "else:\n",
    "    print(\"list is not empty\")"
   ]
  },
  {
   "cell_type": "markdown",
   "metadata": {
    "id": "06e-cUh9mgIM"
   },
   "source": [
    "7. Write a program to generate all the permutations of a list without using loops. Hint: Use itertools library.\n",
    "- input: x=[2,5,8]  \n",
    "- output: [(2, 5, 8), (2, 8, 5), (5, 2, 8), (5, 8, 2), (8, 2, 5), (8, 5, 2)]\n",
    "\n",
    "link:https://docs.python.org/3/library/itertools.html"
   ]
  },
  {
   "cell_type": "code",
   "execution_count": null,
   "metadata": {
    "id": "QAQ1UIk9mgIM",
    "outputId": "970555d9-4c09-424d-c86a-1ba6aa121804"
   },
   "outputs": [
    {
     "name": "stdout",
     "output_type": "stream",
     "text": [
      "[(2, 5, 8), (2, 8, 5), (5, 2, 8), (5, 8, 2), (8, 2, 5), (8, 5, 2)]\n"
     ]
    }
   ],
   "source": [
    "import itertools\n",
    "x=[2,5,8]\n",
    "permu=itertools.permutations(x)\n",
    "print(list(permu))"
   ]
  },
  {
   "cell_type": "markdown",
   "metadata": {
    "id": "81sDA8hZmgIN"
   },
   "source": [
    "8. Let's say we have three list lst_1=[2,4,8] lst_2=[5,1,3] lst_3=[6,9,2]\n",
    "\n",
    "- Write a program to make a list of lists to form a matrix.\n",
    "- Add 5 to the digonal element of the matrix."
   ]
  },
  {
   "cell_type": "code",
   "execution_count": null,
   "metadata": {
    "id": "gprwr_JmmgIN",
    "outputId": "83c038af-da19-4b79-af9f-8410c43d41c4"
   },
   "outputs": [
    {
     "data": {
      "text/plain": [
       "[[7, 4, 8], [5, 6, 3], [6, 9, 7]]"
      ]
     },
     "execution_count": 35,
     "metadata": {
      "tags": []
     },
     "output_type": "execute_result"
    }
   ],
   "source": [
    "lst_1=[2,4,8]\n",
    "lst_2=[5,1,3]\n",
    "lst_3=[6,9,2]\n",
    "\n",
    "matrix=[lst_1,lst_2,lst_3]\n",
    "\n",
    "for i in range(0,len(matrix)):\n",
    "    for j in range(0,len(matrix)):\n",
    "        if i==j:\n",
    "            matrix[i][j]+=5\n",
    "            \n",
    "matrix"
   ]
  },
  {
   "cell_type": "markdown",
   "metadata": {
    "id": "SjAGY0npmgIO"
   },
   "source": [
    "<h2>Dictionary </h2>"
   ]
  },
  {
   "cell_type": "markdown",
   "metadata": {
    "id": "Uesss0vimgIO"
   },
   "source": [
    "9. Write a program to fetch 'loss' from the below dictionary.\n",
    "\n",
    "d = {'fruits':{'apple':100,'orange':{'good':1,'bad':{'buy':['loss','profit']}}}}"
   ]
  },
  {
   "cell_type": "code",
   "execution_count": null,
   "metadata": {
    "id": "AfHL4l5HmgIP"
   },
   "outputs": [],
   "source": [
    "d={'fruits':{'apple':100,'orange':{'good':1,'bad':{'buy':['loss','profit']}}}}"
   ]
  },
  {
   "cell_type": "code",
   "execution_count": null,
   "metadata": {
    "id": "-RLjt8u7mgIP",
    "outputId": "84e19896-68e8-4236-8655-c74cc08e793b"
   },
   "outputs": [
    {
     "data": {
      "text/plain": [
       "'loss'"
      ]
     },
     "execution_count": 50,
     "metadata": {
      "tags": []
     },
     "output_type": "execute_result"
    }
   ],
   "source": [
    "d['fruits']['orange']['bad']['buy'][0]"
   ]
  },
  {
   "cell_type": "markdown",
   "metadata": {
    "id": "Np3vUA2FmgIP"
   },
   "source": [
    "10. Given a list of dictionary, list_dict=[{'apple':1},{'orange':2},{'pineapple':1},{'guava':3},{'strawberry':5}] \n",
    "- Write a program to print all the unique values in the dictionary."
   ]
  },
  {
   "cell_type": "code",
   "execution_count": null,
   "metadata": {
    "id": "2rrCbutXmgIQ",
    "outputId": "9b35a9c2-208e-4512-dda7-1ce0d491efe1"
   },
   "outputs": [
    {
     "name": "stdout",
     "output_type": "stream",
     "text": [
      "{1, 2, 3, 5}\n"
     ]
    }
   ],
   "source": [
    "list_dict=[{'apple':1},{'orange':2},{'pineapple':1},{'guava':3},{'strawberry':5}]\n",
    "\n",
    "unique=set()\n",
    "for di in list_dict:\n",
    "    for j in di.values():\n",
    "        unique.add(j)\n",
    "\n",
    "print(unique)\n"
   ]
  },
  {
   "cell_type": "markdown",
   "metadata": {
    "id": "jqqOEE-2mgIQ"
   },
   "source": [
    "<h1>Sets </h2>"
   ]
  },
  {
   "cell_type": "markdown",
   "metadata": {
    "id": "Oxn8gJ27mgIQ"
   },
   "source": [
    "11. Write a program to check if a given set is superset of itself or not.\n",
    "s={20,10,30,50}"
   ]
  },
  {
   "cell_type": "code",
   "execution_count": null,
   "metadata": {
    "id": "fI2fmwyxmgIR",
    "outputId": "de2ec70c-f8cc-43eb-c5d0-e3dc60687678"
   },
   "outputs": [
    {
     "name": "stdout",
     "output_type": "stream",
     "text": [
      "True\n"
     ]
    }
   ],
   "source": [
    "s={20,10,30,50}\n",
    "val=s.issuperset(s)\n",
    "print(val)"
   ]
  },
  {
   "cell_type": "markdown",
   "metadata": {
    "id": "GEkCEdJMmgIR"
   },
   "source": [
    "12. Given two sets s1={20,10,30,50} and s2={10,30}. Write a program to check if s2 is a subset of s1 or not."
   ]
  },
  {
   "cell_type": "code",
   "execution_count": null,
   "metadata": {
    "id": "ZuUGq3U7mgIS",
    "outputId": "178908ae-d4fa-42f3-b8f4-c28386f0a68d"
   },
   "outputs": [
    {
     "name": "stdout",
     "output_type": "stream",
     "text": [
      "True\n"
     ]
    }
   ],
   "source": [
    "s1={20,10,30,50} \n",
    "s2={10,30}\n",
    "x=s1>s2\n",
    "print(x)"
   ]
  },
  {
   "cell_type": "markdown",
   "metadata": {
    "id": "FrxWe0lsmgIT"
   },
   "source": [
    "<h2>Tuple </h2>"
   ]
  },
  {
   "cell_type": "markdown",
   "metadata": {
    "id": "snXN3742mgIU"
   },
   "source": [
    "13. Write a program to unzip a list of tuples into individual lists.\n",
    "- new_list=[(56,43,21),(21,45,67),(89,16,78)]\n",
    "- output:[56, 43, 21, 21, 45, 67, 89, 16, 78]\n",
    "\n",
    "Use list comprehension"
   ]
  },
  {
   "cell_type": "code",
   "execution_count": null,
   "metadata": {
    "id": "NVt7e55QmgIU"
   },
   "outputs": [],
   "source": [
    "new_list=[(56,43,21),(21,45,67),(89,16,78)]\n",
    "temp=[item for x in new_list for item in x]"
   ]
  },
  {
   "cell_type": "code",
   "execution_count": null,
   "metadata": {
    "id": "zrJFvugomgIU",
    "outputId": "4ea221c3-ed3a-484e-cb8a-74aa15799f69"
   },
   "outputs": [
    {
     "data": {
      "text/plain": [
       "[56, 43, 21, 21, 45, 67, 89, 16, 78]"
      ]
     },
     "execution_count": 88,
     "metadata": {
      "tags": []
     },
     "output_type": "execute_result"
    }
   ],
   "source": [
    "temp"
   ]
  },
  {
   "cell_type": "markdown",
   "metadata": {
    "id": "5NIBSV-dmgIV"
   },
   "source": [
    "<h1>Functions</h2>"
   ]
  },
  {
   "cell_type": "markdown",
   "metadata": {
    "id": "0-1UDKBZmgIX"
   },
   "source": [
    "14. Write a program to check whether a number is a perfect number. A perfect number is defined as the positive number in which sum of all positive divisors excluding the number itself is equal to that number.\n",
    "\n",
    "- Ex: 6 the divisor of 6 is 1,2,3 and 1+2+3=6 28 the divisors of 28 is 1,2,4,7,14 and 1+2+4+7+14=28"
   ]
  },
  {
   "cell_type": "code",
   "execution_count": null,
   "metadata": {
    "id": "TQJHfYbAmgIX",
    "outputId": "390f7c6e-3ccf-425d-8373-b0f4a85147e1"
   },
   "outputs": [
    {
     "name": "stdout",
     "output_type": "stream",
     "text": [
      "The number is not perfect\n"
     ]
    }
   ],
   "source": [
    "def is_perfect(num):\n",
    "    if num<1:\n",
    "        print(\"The number is not a perfect number\")\n",
    "    sum=0\n",
    "    for i in range(1,num):\n",
    "        if num%i==0:\n",
    "            sum+=i\n",
    "    if sum==num:\n",
    "        print(\"The number is perfect\")\n",
    "    else:\n",
    "        print(\"The number is not perfect\")\n",
    "\n",
    "is_perfect(18)"
   ]
  },
  {
   "cell_type": "markdown",
   "metadata": {
    "id": "7ecEys25mgIX"
   },
   "source": [
    "15. Given a string x='Hello folks Welcome to greatlearning. Greatlearning provides the best datascience courses'. \n",
    "- Write a program to calculate the frequency of the each word of the sentence\n",
    "- Ex: greatlearning 2 Hello 1 the 1"
   ]
  },
  {
   "cell_type": "code",
   "execution_count": 6,
   "metadata": {
    "colab": {
     "base_uri": "https://localhost:8080/"
    },
    "executionInfo": {
     "elapsed": 975,
     "status": "ok",
     "timestamp": 1613475995453,
     "user": {
      "displayName": "Garima Rahangdale",
      "photoUrl": "",
      "userId": "12135158262547382026"
     },
     "user_tz": -330
    },
    "id": "PlHOlA4smgIY",
    "outputId": "568f71ce-ec77-4009-8b83-2d41250551f9"
   },
   "outputs": [
    {
     "name": "stdout",
     "output_type": "stream",
     "text": [
      "best 1\n",
      "hello 1\n",
      "provides 1\n",
      "greatlearning 2\n",
      "courses 1\n",
      "the 1\n",
      "folks 1\n",
      "to 1\n",
      "welcome 1\n",
      "datascience 1\n"
     ]
    }
   ],
   "source": [
    "def occur(sent):\n",
    "  sent_list=sent.lower()\n",
    "  sent_list=sent_list.split()\n",
    "  words=set(sent_list)\n",
    "  for w in words:\n",
    "    print(w,sent_list.count(w))\n",
    "        \n",
    "x='Hello folks Welcome to greatlearning Greatlearning provides the best datascience courses'\n",
    "occur(x)"
   ]
  },
  {
   "cell_type": "code",
   "execution_count": null,
   "metadata": {
    "id": "xywO4O6NmgIZ"
   },
   "outputs": [],
   "source": []
  }
 ],
 "metadata": {
  "colab": {
   "name": "Python for ML: Week1 Practice Sample Solution.ipynb",
   "provenance": []
  },
  "kernelspec": {
   "display_name": "Python 3",
   "language": "python",
   "name": "python3"
  },
  "language_info": {
   "codemirror_mode": {
    "name": "ipython",
    "version": 3
   },
   "file_extension": ".py",
   "mimetype": "text/x-python",
   "name": "python",
   "nbconvert_exporter": "python",
   "pygments_lexer": "ipython3",
   "version": "3.8.8"
  }
 },
 "nbformat": 4,
 "nbformat_minor": 1
}
