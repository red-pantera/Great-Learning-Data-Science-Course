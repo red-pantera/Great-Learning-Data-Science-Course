{
 "cells": [
  {
   "cell_type": "markdown",
   "metadata": {
    "id": "EWV2ATv8lRIc"
   },
   "source": [
    "<img src=\"http://drive.google.com/uc?export=view&id=1tpOCamr9aWz817atPnyXus8w5gJ3mIts\" width=500px>"
   ]
  },
  {
   "cell_type": "markdown",
   "metadata": {
    "id": "hTHICJIhj872"
   },
   "source": [
    "# Python for ML"
   ]
  },
  {
   "cell_type": "markdown",
   "metadata": {
    "id": "0W3i5etdlqVD"
   },
   "source": [
    "## Practice Question Notebook "
   ]
  },
  {
   "cell_type": "markdown",
   "metadata": {
    "id": "GXzZuh29j87-"
   },
   "source": [
    "<h3>Notebook Structure </h3>"
   ]
  },
  {
   "cell_type": "markdown",
   "metadata": {
    "id": "34_cCE93j87-"
   },
   "source": [
    "We will cover variables, operators, datastructures, and functions.\n",
    "- i) Variable\n",
    "- ii) Datastructures with loops\n",
    "- iii) Functions\n"
   ]
  },
  {
   "cell_type": "markdown",
   "metadata": {
    "id": "lOnph6DXj87_"
   },
   "source": [
    "<h3>Variables</h3>"
   ]
  },
  {
   "cell_type": "markdown",
   "metadata": {
    "id": "htTfxIarj87_"
   },
   "source": [
    "1. Write a program to swap the values of variables without using any arithmetic operators.\n",
    "- Given a=10, b=20        \n",
    "- Expected o/p:- a=20, b=10"
   ]
  },
  {
   "cell_type": "code",
   "execution_count": 3,
   "metadata": {
    "id": "LQ4xEUeej87_"
   },
   "outputs": [
    {
     "name": "stdout",
     "output_type": "stream",
     "text": [
      "20 10\n"
     ]
    }
   ],
   "source": [
    "a = 10\n",
    "b = 20\n",
    "a, b = b, a\n",
    "print(a, b)"
   ]
  },
  {
   "cell_type": "markdown",
   "metadata": {
    "id": "4vJ5Nz58j88A"
   },
   "source": [
    "2. Write a program to reverse a string without using any loop. \n",
    "- Given string name = 'greatlearning'  \n",
    "- Expected o/p:- 'gninraeltaerg'"
   ]
  },
  {
   "cell_type": "code",
   "execution_count": 4,
   "metadata": {
    "id": "1--M5i5Sj88A"
   },
   "outputs": [
    {
     "data": {
      "text/plain": [
       "'gninraeltaerg'"
      ]
     },
     "execution_count": 4,
     "metadata": {},
     "output_type": "execute_result"
    }
   ],
   "source": [
    "string = 'greatlearning'\n",
    "string[::-1]"
   ]
  },
  {
   "cell_type": "markdown",
   "metadata": {
    "id": "T2uKmK08j88A"
   },
   "source": [
    "3. Write a program to split a string into blank space without using loops.\n",
    "Hint: Use built-in functions of python.\n",
    "- Given String: \" Hello folks Welcome to greatlearning \""
   ]
  },
  {
   "cell_type": "code",
   "execution_count": 5,
   "metadata": {
    "id": "Lv5Dl_I6j88B"
   },
   "outputs": [
    {
     "name": "stdout",
     "output_type": "stream",
     "text": [
      "['Hello', 'folks', 'Welcome', 'to', 'greatlearning']\n"
     ]
    }
   ],
   "source": [
    "sentence = \" Hello folks Welcome to greatlearning \"\n",
    "split = sentence.split()\n",
    "print(split)"
   ]
  },
  {
   "cell_type": "markdown",
   "metadata": {
    "id": "8rCcxtS6j88B"
   },
   "source": [
    "<h3>DataStructures </h3>"
   ]
  },
  {
   "cell_type": "markdown",
   "metadata": {
    "id": "tKeOHaCcj88B"
   },
   "source": [
    "<h3>List </h3>"
   ]
  },
  {
   "cell_type": "markdown",
   "metadata": {
    "id": "0n9C8d97j88B"
   },
   "source": [
    "4. Write a program to sum all the items of a list. \n",
    "- Given list x=[5,3,8,9,14] \n",
    "- Expected o/p: 39"
   ]
  },
  {
   "cell_type": "code",
   "execution_count": 7,
   "metadata": {
    "id": "InDA-LTYj88C"
   },
   "outputs": [
    {
     "data": {
      "text/plain": [
       "39"
      ]
     },
     "execution_count": 7,
     "metadata": {},
     "output_type": "execute_result"
    }
   ],
   "source": [
    "x = [5,3,8,9,14]\n",
    "sum(x)"
   ]
  },
  {
   "cell_type": "markdown",
   "metadata": {
    "id": "NlqqM92Mj88C"
   },
   "source": [
    "5. Write a program to multiply all the items of a list. \n",
    "- Given list y = [6,8,12,14,15]"
   ]
  },
  {
   "cell_type": "code",
   "execution_count": 10,
   "metadata": {
    "id": "yvWpggk8j88C"
   },
   "outputs": [
    {
     "name": "stdout",
     "output_type": "stream",
     "text": [
      "120960\n"
     ]
    }
   ],
   "source": [
    "y = [6,8,12,14,15]\n",
    "\n",
    "res = 1\n",
    "for i in y: \n",
    "    res *= i\n",
    "print(res)"
   ]
  },
  {
   "cell_type": "markdown",
   "metadata": {
    "id": "8kUt_L1sj88D"
   },
   "source": [
    "6. Write a program to check if a list is empty or not."
   ]
  },
  {
   "cell_type": "code",
   "execution_count": 23,
   "metadata": {
    "id": "-63C8MHxj88E"
   },
   "outputs": [
    {
     "data": {
      "text/plain": [
       "'Empty'"
      ]
     },
     "execution_count": 23,
     "metadata": {},
     "output_type": "execute_result"
    }
   ],
   "source": [
    "l = []\n",
    "check_list = ('Not empty' if l else 'Empty')\n",
    "check_list"
   ]
  },
  {
   "cell_type": "markdown",
   "metadata": {
    "id": "GAiwWtKZj88E"
   },
   "source": [
    "7. Write a program to generate all the permutations of a list without using loops. Hint: Use itertools library.\n",
    "- input: x=[2,5,8]  \n",
    "- output: [(2, 5, 8), (2, 8, 5), (5, 2, 8), (5, 8, 2), (8, 2, 5), (8, 5, 2)]"
   ]
  },
  {
   "cell_type": "code",
   "execution_count": 4,
   "metadata": {
    "id": "XWC_xl3cj88E"
   },
   "outputs": [
    {
     "name": "stdout",
     "output_type": "stream",
     "text": [
      "[(2, 5, 8), (2, 8, 5), (5, 2, 8), (5, 8, 2), (8, 2, 5), (8, 5, 2)]\n"
     ]
    }
   ],
   "source": [
    "import itertools\n",
    "x = [2,5,8]\n",
    "res = list(itertools.permutations(x))\n",
    "print(res)"
   ]
  },
  {
   "cell_type": "markdown",
   "metadata": {
    "id": "UJO-hVJ8j88F"
   },
   "source": [
    "8. Let's say we have three list \n",
    "- lst_1=[2,4,8] \n",
    "- lst_2=[5,1,3] \n",
    "- lst_3=[6,9,2]\n",
    "\n",
    "- Write a program to make a list of lists to form a matrix.\n",
    "- Add 5 to the digonal element of the matrix."
   ]
  },
  {
   "cell_type": "code",
   "execution_count": 18,
   "metadata": {
    "id": "tHQFAvoKj88F"
   },
   "outputs": [
    {
     "name": "stdout",
     "output_type": "stream",
     "text": [
      "[[7, 4, 8], [5, 6, 3], [6, 9, 7]]\n"
     ]
    }
   ],
   "source": [
    "lst_1=[2,4,8]\n",
    "lst_2=[5,1,3]\n",
    "lst_3=[6,9,2]\n",
    "matrix =[lst_1, lst_2, lst_3]\n",
    "\n",
    "for i in range(0,len(matrix)):\n",
    "    for j in range(0,len(matrix)):\n",
    "        if i==j:\n",
    "            matrix[i][j]+=5\n",
    "            \n",
    "print(matrix)"
   ]
  },
  {
   "cell_type": "markdown",
   "metadata": {
    "id": "f-hTp8tUj88F"
   },
   "source": [
    "<h3>Dictionary</h3>"
   ]
  },
  {
   "cell_type": "markdown",
   "metadata": {
    "id": "1e36n3iXj88F"
   },
   "source": [
    "9. Write a program to fetch 'loss' from the below dictionary.\n",
    "\n",
    "d = {'fruits':{'apple':100,'orange':{'good':1,'bad':{'buy':['loss','profit']}}}}"
   ]
  },
  {
   "cell_type": "code",
   "execution_count": 27,
   "metadata": {
    "id": "HlkVhCDOj88F"
   },
   "outputs": [
    {
     "data": {
      "text/plain": [
       "'loss'"
      ]
     },
     "execution_count": 27,
     "metadata": {},
     "output_type": "execute_result"
    }
   ],
   "source": [
    "d = {'fruits':{'apple':100,'orange':{'good':1,'bad':{'buy':['loss','profit']}}}}\n",
    "d['fruits']['orange']['bad']['buy'][0]"
   ]
  },
  {
   "cell_type": "markdown",
   "metadata": {
    "id": "DB947Geej88G"
   },
   "source": [
    "10. Given a list of dictionary, list_dict=[{'apple':1},{'orange':2},{'pineapple':1},{'guava':3},{'strawberry':5}] \n",
    "- Write a program to print all the unique values in the dictionary."
   ]
  },
  {
   "cell_type": "code",
   "execution_count": 43,
   "metadata": {
    "id": "K0V4yPwcj88G"
   },
   "outputs": [
    {
     "data": {
      "text/plain": [
       "{1, 2, 3, 5}"
      ]
     },
     "execution_count": 43,
     "metadata": {},
     "output_type": "execute_result"
    }
   ],
   "source": [
    "list_dict=[{'apple':1},{'orange':2},{'pineapple':1},{'guava':3},{'strawberry':5}]\n",
    "unique = set()\n",
    "for i in list_dict:\n",
    "    for j in i.values():\n",
    "        unique.add(j)\n",
    "unique"
   ]
  },
  {
   "cell_type": "markdown",
   "metadata": {
    "id": "LrGtYJyfj88H"
   },
   "source": [
    "<h3> Sets </h3>"
   ]
  },
  {
   "cell_type": "markdown",
   "metadata": {
    "id": "rnUW6dgbj88H"
   },
   "source": [
    "11. Write a program to check if a given set is superset of itself or not. \n",
    "- S = {20,10,30,50}"
   ]
  },
  {
   "cell_type": "code",
   "execution_count": 45,
   "metadata": {
    "id": "k3iR6cn7j88H"
   },
   "outputs": [
    {
     "name": "stdout",
     "output_type": "stream",
     "text": [
      "True\n"
     ]
    }
   ],
   "source": [
    "s = {20,10,30,50}\n",
    "val = s.issuperset(s)\n",
    "print(val)"
   ]
  },
  {
   "cell_type": "markdown",
   "metadata": {
    "id": "Lo7V-Rkzj88I"
   },
   "source": [
    "12. Given two sets s1={20,10,30,50} and s2={10,30}. Write a program to check if s2 is a subset of s1 or not."
   ]
  },
  {
   "cell_type": "code",
   "execution_count": 49,
   "metadata": {
    "id": "jsj4-_F8j88I"
   },
   "outputs": [
    {
     "data": {
      "text/plain": [
       "True"
      ]
     },
     "execution_count": 49,
     "metadata": {},
     "output_type": "execute_result"
    }
   ],
   "source": [
    "s1={20,10,30,50}\n",
    "s2={10,30}\n",
    "\n",
    "check_super = s1.issuperset(s2)\n",
    "check_super"
   ]
  },
  {
   "cell_type": "markdown",
   "metadata": {
    "id": "2xgjYjPPj88J"
   },
   "source": [
    "<h3>Tuple </h3>"
   ]
  },
  {
   "cell_type": "markdown",
   "metadata": {
    "id": "VVVsMz2hj88J"
   },
   "source": [
    "13. Write a program to unzip a list of tuples into individual lists. \n",
    "- new_list=[(56,43,21),(21,45,67),(89,16,78)] \n",
    "- output:[56, 43, 21, 21, 45, 67, 89, 16, 78]"
   ]
  },
  {
   "cell_type": "code",
   "execution_count": 63,
   "metadata": {
    "id": "XKtK_H44j88J"
   },
   "outputs": [
    {
     "data": {
      "text/plain": [
       "[56, 43, 21, 21, 45, 67, 89, 16, 78]"
      ]
     },
     "execution_count": 63,
     "metadata": {},
     "output_type": "execute_result"
    }
   ],
   "source": [
    "new_list=[(56,43,21),(21,45,67),(89,16,78)]\n",
    "my_list = []\n",
    "for x in new_list :\n",
    "    for i in x:\n",
    "        my_list.append(i)\n",
    "        \n",
    "my_list"
   ]
  },
  {
   "cell_type": "markdown",
   "metadata": {
    "id": "KJxZ9gdwj88J"
   },
   "source": [
    "<h3>Functions </h3>"
   ]
  },
  {
   "cell_type": "markdown",
   "metadata": {
    "id": "_yOLijznj88K"
   },
   "source": [
    "14. Write a program to check whether a number is a perfect number. A perfect number is defined as the positive number in which sum of all positive divisors excluding the number itself is equal to that number.\n",
    "\n",
    "- Ex: 6 the divisor of 6 is 1,2,3 and 1+2+3=6 28 the divisors of 28 is 1,2,4,7,14 and 1+2+4+7+14=28"
   ]
  },
  {
   "cell_type": "code",
   "execution_count": 68,
   "metadata": {
    "id": "nXjtCkw5j88K"
   },
   "outputs": [
    {
     "name": "stdout",
     "output_type": "stream",
     "text": [
      "The number is a perfect number\n"
     ]
    }
   ],
   "source": [
    "def check_perfect(num):\n",
    "    if num<1:\n",
    "        print(\"The number is not a perfect number\")\n",
    "    sum = 0\n",
    "    for i in range(1, num):\n",
    "        if num % i == 0:\n",
    "            sum +=i\n",
    "    if sum==num:\n",
    "        print(\"The number is a perfect number\")\n",
    "    else:\n",
    "        print(\"The number is not a perfect number\")\n",
    "        \n",
    "check_perfect(28)"
   ]
  },
  {
   "cell_type": "markdown",
   "metadata": {
    "id": "1PggNlTHj88K"
   },
   "source": [
    "15. Given a string x='Hello folks Welcome to greatlearning Greatlearning provides the best datascience courses'. \n",
    "- Write a program to calculate the frequency of the each word of the sentence\n",
    "- Ex: greatlearning 2 Hello 1 the 1"
   ]
  },
  {
   "cell_type": "code",
   "execution_count": 85,
   "metadata": {
    "id": "ujK4oW35j88K"
   },
   "outputs": [
    {
     "name": "stdout",
     "output_type": "stream",
     "text": [
      "hello -> 1\n",
      "folks -> 1\n",
      "welcome -> 1\n",
      "to -> 1\n",
      "greatlearning -> 2\n",
      "provides -> 1\n",
      "the -> 1\n",
      "best -> 1\n",
      "datascience -> 1\n",
      "courses -> 1\n"
     ]
    }
   ],
   "source": [
    "\n",
    "def count_words(s):\n",
    "    s = s.lower()\n",
    "    list_s = s.split()\n",
    "    dict_s = {}\n",
    "    for word in list_s:\n",
    "        if word not in dict_s:\n",
    "            dict_s[word] = 1\n",
    "        else:\n",
    "            dict_s[word] += 1\n",
    "    for key in dict_s:\n",
    "        print(key, '->', dict_s[key])\n",
    "    \n",
    "    \n",
    "x='Hello folks Welcome to greatlearning Greatlearning provides the best datascience courses'    \n",
    "count_words(x)"
   ]
  }
 ],
 "metadata": {
  "colab": {
   "name": "Python for ML: Week1 Question Notebook.ipynb",
   "provenance": []
  },
  "kernelspec": {
   "display_name": "Python 3",
   "language": "python",
   "name": "python3"
  },
  "language_info": {
   "codemirror_mode": {
    "name": "ipython",
    "version": 3
   },
   "file_extension": ".py",
   "mimetype": "text/x-python",
   "name": "python",
   "nbconvert_exporter": "python",
   "pygments_lexer": "ipython3",
   "version": "3.8.8"
  }
 },
 "nbformat": 4,
 "nbformat_minor": 1
}
