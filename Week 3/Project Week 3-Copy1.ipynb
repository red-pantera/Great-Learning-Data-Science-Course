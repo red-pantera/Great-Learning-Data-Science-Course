{
 "cells": [
  {
   "cell_type": "code",
   "execution_count": 1,
   "id": "99a52c95",
   "metadata": {},
   "outputs": [],
   "source": [
    "import warnings\n",
    "warnings.filterwarnings(\"ignore\")"
   ]
  },
  {
   "cell_type": "code",
   "execution_count": 2,
   "id": "565ead51",
   "metadata": {},
   "outputs": [],
   "source": [
    "import numpy as np\n",
    "import pandas as pd\n",
    "import matplotlib.pyplot as plt\n",
    "import seaborn as sns\n",
    "import scipy.stats as stats\n",
    "from scipy.stats import norm\n",
    "from scipy.stats import kurtosis, skew\n",
    "from sklearn import preprocessing\n",
    "\n",
    "sns.set(color_codes=True) # add nice colors\n",
    "%matplotlib inline\n"
   ]
  },
  {
   "cell_type": "markdown",
   "id": "b037c898",
   "metadata": {},
   "source": [
    "---"
   ]
  },
  {
   "cell_type": "markdown",
   "id": "b58d01c7",
   "metadata": {},
   "source": [
    "## Part 1"
   ]
  },
  {
   "cell_type": "markdown",
   "id": "da35be6b",
   "metadata": {},
   "source": [
    "### Probability and Bayes Theorem (7 points)"
   ]
  },
  {
   "cell_type": "markdown",
   "id": "a583af33",
   "metadata": {},
   "source": [
    "**Q1.** A consumer research survey sampled 200 men to find out whether they prefer to\n",
    "drink plain water or soft drink. 80 out of these 200 men prefer a soft drink. What is the\n",
    "probability that a randomly chosen man will prefer a soft drink? (2 points)"
   ]
  },
  {
   "cell_type": "code",
   "execution_count": 3,
   "id": "aa3bd13c",
   "metadata": {},
   "outputs": [
    {
     "data": {
      "text/plain": [
       "0.4"
      ]
     },
     "execution_count": 3,
     "metadata": {},
     "output_type": "execute_result"
    }
   ],
   "source": [
    "total = 200\n",
    "soft_drink = 80\n",
    "prob = soft_drink/total\n",
    "prob"
   ]
  },
  {
   "cell_type": "markdown",
   "id": "03dcffae",
   "metadata": {},
   "source": [
    "**Q2.** From a full deck of 52 cards, 1 card is drawn randomly. What is the probability that\n",
    "the card is either a spade or a king? (2 points)"
   ]
  },
  {
   "cell_type": "code",
   "execution_count": 4,
   "id": "ee72a88e",
   "metadata": {},
   "outputs": [
    {
     "data": {
      "text/plain": [
       "0.308"
      ]
     },
     "execution_count": 4,
     "metadata": {},
     "output_type": "execute_result"
    }
   ],
   "source": [
    "total_cards = 52\n",
    "spades = 13\n",
    "kings = 4\n",
    "spade_king = 1\n",
    "\n",
    "probability = spades/total_cards + kings/total_cards - spade_king/total_cards\n",
    "round(probability, 3)"
   ]
  },
  {
   "cell_type": "markdown",
   "id": "f1872ad2",
   "metadata": {},
   "source": [
    "**Q3.** A drilling company has estimated a 40% chance of striking oil for their new well. A\n",
    "detailed test has been scheduled for more information. Historically, 60% of successful\n",
    "wells have had detailed tests, and 20% of unsuccessful wells have had detailed tests.\n",
    "Given that this well has been scheduled for a detailed test, what is the probability that\n",
    "the well will be successful? (3 points)"
   ]
  },
  {
   "cell_type": "code",
   "execution_count": 5,
   "id": "a98170af",
   "metadata": {},
   "outputs": [
    {
     "data": {
      "text/plain": [
       "0.667"
      ]
     },
     "execution_count": 5,
     "metadata": {},
     "output_type": "execute_result"
    }
   ],
   "source": [
    "success = 0.4\n",
    "failure = 0.6\n",
    "det_test_success = 0.6\n",
    "det_test_failure = 0.2\n",
    "\n",
    "prob = success * det_test_success / (success * det_test_success + failure * det_test_failure)\n",
    "round(prob, 3)"
   ]
  },
  {
   "cell_type": "markdown",
   "id": "613f4cd5",
   "metadata": {},
   "source": [
    "### Normal Distribution (10 points)"
   ]
  },
  {
   "cell_type": "markdown",
   "id": "fab6a105",
   "metadata": {},
   "source": [
    "**Q1.** There are 1000 students in a class. The average Score and the Variance of the\n",
    "Score of the class is 240 and 400 respectively. The Scores of the students are normally\n",
    "distributed. Rahul, a student in the class belongs to the 95th percentile in the class.\n",
    "What is the actual Score Rahul has got? (3 points)"
   ]
  },
  {
   "cell_type": "code",
   "execution_count": 6,
   "id": "f2f07317",
   "metadata": {},
   "outputs": [
    {
     "data": {
      "text/plain": [
       "272.9"
      ]
     },
     "execution_count": 6,
     "metadata": {},
     "output_type": "execute_result"
    }
   ],
   "source": [
    "mean = 240\n",
    "variance = 400 \n",
    "st_dev = 20\n",
    "z = norm.ppf(0.95)\n",
    "\n",
    "x = z * st_dev + mean\n",
    "round(x, 2)"
   ]
  },
  {
   "cell_type": "markdown",
   "id": "2470b883",
   "metadata": {},
   "source": [
    "**Q2.** The mean score on a college placement exam is 500 with a standard deviation of\n",
    "100. Ninety-five percent of the test takers score above what? (3 points)\n"
   ]
  },
  {
   "cell_type": "code",
   "execution_count": 7,
   "id": "f05cd47a",
   "metadata": {},
   "outputs": [
    {
     "data": {
      "text/plain": [
       "335.51"
      ]
     },
     "execution_count": 7,
     "metadata": {},
     "output_type": "execute_result"
    }
   ],
   "source": [
    "mean = 500\n",
    "st_dev = 100\n",
    "z = norm.ppf(1 - 0.95)\n",
    "\n",
    "x = z * st_dev + mean\n",
    "round(x, 2)"
   ]
  },
  {
   "cell_type": "markdown",
   "id": "c34b29c2",
   "metadata": {},
   "source": [
    "**Q3.** A speed-data of some cars is given. The speeds are normally distributed with a\n",
    "mean of 70 km/hr and a standard deviation of 10 km/hr. (4 points)"
   ]
  },
  {
   "cell_type": "markdown",
   "id": "bca6678c",
   "metadata": {},
   "source": [
    "**a)** What is the probability that a car picked at random is travelling at more than 100\n",
    "km/hr?"
   ]
  },
  {
   "cell_type": "code",
   "execution_count": 8,
   "id": "848344b7",
   "metadata": {},
   "outputs": [
    {
     "data": {
      "text/plain": [
       "0.00135"
      ]
     },
     "execution_count": 8,
     "metadata": {},
     "output_type": "execute_result"
    }
   ],
   "source": [
    "mean = 70\n",
    "st_dev = 10 \n",
    "x = 100\n",
    "\n",
    "z = (x - mean) / st_dev\n",
    "prob_100 = stats.norm.cdf(z)\n",
    "prob_more_100 = 1 - prob_100\n",
    "round(prob_more_100, 6)"
   ]
  },
  {
   "cell_type": "markdown",
   "id": "90b7a896",
   "metadata": {},
   "source": [
    "**b)** What is the probability that the car speed is between 80 Km / hr and 100 Km / hr"
   ]
  },
  {
   "cell_type": "code",
   "execution_count": 9,
   "id": "e922a6af",
   "metadata": {},
   "outputs": [
    {
     "data": {
      "text/plain": [
       "0.157305"
      ]
     },
     "execution_count": 9,
     "metadata": {},
     "output_type": "execute_result"
    }
   ],
   "source": [
    "x2 = 80\n",
    "z2 = (x2 - mean) / st_dev\n",
    "prob_100 = stats.norm.cdf(z)\n",
    "prob_80 = stats.norm.cdf(z2)\n",
    "prob_between_80_100 = prob_100 - prob_80\n",
    "round(prob_between_80_100, 6)"
   ]
  },
  {
   "cell_type": "markdown",
   "id": "cbe1abbf",
   "metadata": {},
   "source": [
    "### Binomial Distribution (4 points)"
   ]
  },
  {
   "cell_type": "markdown",
   "id": "03449fb6",
   "metadata": {},
   "source": [
    "**Q1.** You flip a fair coin 10 times. What is the probability of getting 8 or more heads? (2\n",
    "points)\n",
    "Hint - Use stats.binom.pmf() function for this."
   ]
  },
  {
   "cell_type": "code",
   "execution_count": 10,
   "id": "8fd79d3e",
   "metadata": {},
   "outputs": [
    {
     "data": {
      "text/plain": [
       "0.04394531249999999"
      ]
     },
     "execution_count": 10,
     "metadata": {},
     "output_type": "execute_result"
    }
   ],
   "source": [
    "prob_8 = stats.binom.pmf(k = 8, n = 10, p=0.5) # probability of getting 8 heads\n",
    "prob_8"
   ]
  },
  {
   "cell_type": "code",
   "execution_count": 11,
   "id": "3d886d77",
   "metadata": {},
   "outputs": [
    {
     "data": {
      "text/plain": [
       "0.00976562500000001"
      ]
     },
     "execution_count": 11,
     "metadata": {},
     "output_type": "execute_result"
    }
   ],
   "source": [
    "prob_9 = stats.binom.pmf(k = 9, n = 10, p = 0.5) # probability of getting 9 heads\n",
    "prob_9"
   ]
  },
  {
   "cell_type": "code",
   "execution_count": 12,
   "id": "e8a8392e",
   "metadata": {},
   "outputs": [
    {
     "data": {
      "text/plain": [
       "0.0009765625"
      ]
     },
     "execution_count": 12,
     "metadata": {},
     "output_type": "execute_result"
    }
   ],
   "source": [
    "prob_10 = stats.binom.pmf(k = 10, n = 10, p = 0.5) # probability of getting 10 heads\n",
    "prob_10"
   ]
  },
  {
   "cell_type": "code",
   "execution_count": 13,
   "id": "734af023",
   "metadata": {},
   "outputs": [
    {
     "data": {
      "text/plain": [
       "0.0546875"
      ]
     },
     "execution_count": 13,
     "metadata": {},
     "output_type": "execute_result"
    }
   ],
   "source": [
    "res = prob_8 + prob_9 + prob_10\n",
    "res"
   ]
  },
  {
   "cell_type": "markdown",
   "id": "64e376a2",
   "metadata": {},
   "source": [
    "**Q2.** My Bank has a large Credit Card portfolio. Based on empirical data, they have\n",
    "found that 60% of the customers pay their bill on time. If a sample of 10 accounts is\n",
    "selected from the current database, construct the Probability Distribution of accounts\n",
    "paying on time. (2 points)"
   ]
  },
  {
   "cell_type": "code",
   "execution_count": 14,
   "id": "4ffee910",
   "metadata": {},
   "outputs": [],
   "source": [
    "n = 10\n",
    "k = np.arange(0,10)\n",
    "p = 0.6"
   ]
  },
  {
   "cell_type": "code",
   "execution_count": 15,
   "id": "de4d4945",
   "metadata": {},
   "outputs": [],
   "source": [
    "binomial = stats.binom.pmf(k, n, p)"
   ]
  },
  {
   "cell_type": "code",
   "execution_count": 16,
   "id": "bacab749",
   "metadata": {},
   "outputs": [
    {
     "data": {
      "image/png": "[encoded data removed]",
      "text/plain": [
       "<Figure size 432x288 with 1 Axes>"
      ]
     },
     "metadata": {
      "needs_background": "light"
     },
     "output_type": "display_data"
    }
   ],
   "source": [
    "plt.plot(k ,binomial,'o-')\n",
    "plt.title('Binomial: n=%i , p=%.2f' % (n,p), fontsize=15)\n",
    "plt.xlabel('Number of Successes')\n",
    "plt.ylabel('Probability of Successes')\n",
    "plt.show()"
   ]
  },
  {
   "cell_type": "markdown",
   "id": "3b3a0a8f",
   "metadata": {},
   "source": [
    "### Poisson Distribution (4 points)"
   ]
  },
  {
   "cell_type": "markdown",
   "id": "11202996",
   "metadata": {},
   "source": [
    "**Q1.** Assume a poisson distribution with lambda = 5.0. What is the probability that"
   ]
  },
  {
   "cell_type": "markdown",
   "id": "d58c13f6",
   "metadata": {},
   "source": [
    "**a)** X <= 1?"
   ]
  },
  {
   "cell_type": "code",
   "execution_count": 17,
   "id": "4dae17d3",
   "metadata": {},
   "outputs": [
    {
     "data": {
      "text/plain": [
       "0.006737946999085467"
      ]
     },
     "execution_count": 17,
     "metadata": {},
     "output_type": "execute_result"
    }
   ],
   "source": [
    "poison_0 = stats.poisson.pmf(0, 5.0)\n",
    "poison_0"
   ]
  },
  {
   "cell_type": "code",
   "execution_count": 18,
   "id": "31c58ce8",
   "metadata": {},
   "outputs": [
    {
     "data": {
      "text/plain": [
       "0.03368973499542734"
      ]
     },
     "execution_count": 18,
     "metadata": {},
     "output_type": "execute_result"
    }
   ],
   "source": [
    "poison_1 = stats.poisson.pmf(1, 5.0)\n",
    "poison_1"
   ]
  },
  {
   "cell_type": "code",
   "execution_count": 19,
   "id": "7f060bf1",
   "metadata": {},
   "outputs": [
    {
     "data": {
      "text/plain": [
       "0.040427681994512805"
      ]
     },
     "execution_count": 19,
     "metadata": {},
     "output_type": "execute_result"
    }
   ],
   "source": [
    "res = poison_0 + poison_1\n",
    "res"
   ]
  },
  {
   "cell_type": "markdown",
   "id": "293f97ed",
   "metadata": {},
   "source": [
    "**b)** X > 1?\n",
    "(2 points)"
   ]
  },
  {
   "cell_type": "code",
   "execution_count": 20,
   "id": "d6d70839",
   "metadata": {},
   "outputs": [
    {
     "data": {
      "text/plain": [
       "0.9595723180054871"
      ]
     },
     "execution_count": 20,
     "metadata": {},
     "output_type": "execute_result"
    }
   ],
   "source": [
    "1 - res"
   ]
  },
  {
   "cell_type": "markdown",
   "id": "c343489c",
   "metadata": {},
   "source": [
    "**2.** The number of defects per month in a manufacturing plant is known to follow a\n",
    "Poisson distribution, with a mean of 2.5 defects a month. (2 points)"
   ]
  },
  {
   "cell_type": "markdown",
   "id": "9b2be560",
   "metadata": {},
   "source": [
    "**a)** What is the probability that in a given month, no defects occur?"
   ]
  },
  {
   "cell_type": "code",
   "execution_count": 21,
   "id": "b07e0128",
   "metadata": {},
   "outputs": [
    {
     "data": {
      "text/plain": [
       "0.0820849986238988"
      ]
     },
     "execution_count": 21,
     "metadata": {},
     "output_type": "execute_result"
    }
   ],
   "source": [
    "prob_no_defect = stats.poisson.pmf(0, 2.5)\n",
    "prob_no_defect"
   ]
  },
  {
   "cell_type": "markdown",
   "id": "d9561acb",
   "metadata": {},
   "source": [
    "**b)** That at least one defect occurs?\n",
    "Hint: Use Poisson distribution equation, find X = 0, Given lambda = 2.5"
   ]
  },
  {
   "cell_type": "code",
   "execution_count": 22,
   "id": "21f3ec95",
   "metadata": {},
   "outputs": [
    {
     "data": {
      "text/plain": [
       "0.9179150013761012"
      ]
     },
     "execution_count": 22,
     "metadata": {},
     "output_type": "execute_result"
    }
   ],
   "source": [
    "prob_one_defect = 1 - stats.poisson.pmf(0, 2.5)\n",
    "prob_one_defect"
   ]
  },
  {
   "cell_type": "markdown",
   "id": "d0312a0a",
   "metadata": {},
   "source": [
    "---"
   ]
  },
  {
   "cell_type": "markdown",
   "id": "359250d1",
   "metadata": {},
   "source": [
    "## Part 2"
   ]
  },
  {
   "cell_type": "markdown",
   "id": "892faeef",
   "metadata": {},
   "source": [
    "**1. Import the data and perform the following checks and write down your insights at every step.**"
   ]
  },
  {
   "cell_type": "code",
   "execution_count": 23,
   "id": "4f4d207c",
   "metadata": {},
   "outputs": [],
   "source": [
    "df = pd.read_csv(\"healthinsurance.csv\")"
   ]
  },
  {
   "cell_type": "code",
   "execution_count": 24,
   "id": "0e35dd95",
   "metadata": {},
   "outputs": [
    {
     "data": {
      "text/html": [
       "<div>\n",
       "<style scoped>\n",
       "    .dataframe tbody tr th:only-of-type {\n",
       "        vertical-align: middle;\n",
       "    }\n",
       "\n",
       "    .dataframe tbody tr th {\n",
       "        vertical-align: top;\n",
       "    }\n",
       "\n",
       "    .dataframe thead th {\n",
       "        text-align: right;\n",
       "    }\n",
       "</style>\n",
       "<table border=\"1\" class=\"dataframe\">\n",
       "  <thead>\n",
       "    <tr style=\"text-align: right;\">\n",
       "      <th></th>\n",
       "      <th>age</th>\n",
       "      <th>sex</th>\n",
       "      <th>bmi</th>\n",
       "      <th>children</th>\n",
       "      <th>smoker</th>\n",
       "      <th>region</th>\n",
       "      <th>bloodpressure</th>\n",
       "      <th>diabetes</th>\n",
       "      <th>regular_ex</th>\n",
       "      <th>claim</th>\n",
       "    </tr>\n",
       "  </thead>\n",
       "  <tbody>\n",
       "    <tr>\n",
       "      <th>0</th>\n",
       "      <td>54</td>\n",
       "      <td>female</td>\n",
       "      <td>47.4</td>\n",
       "      <td>0</td>\n",
       "      <td>0</td>\n",
       "      <td>southeast</td>\n",
       "      <td>90</td>\n",
       "      <td>1</td>\n",
       "      <td>0</td>\n",
       "      <td>63770.43</td>\n",
       "    </tr>\n",
       "    <tr>\n",
       "      <th>1</th>\n",
       "      <td>45</td>\n",
       "      <td>male</td>\n",
       "      <td>57.0</td>\n",
       "      <td>0</td>\n",
       "      <td>0</td>\n",
       "      <td>southeast</td>\n",
       "      <td>66</td>\n",
       "      <td>1</td>\n",
       "      <td>0</td>\n",
       "      <td>62592.87</td>\n",
       "    </tr>\n",
       "    <tr>\n",
       "      <th>2</th>\n",
       "      <td>52</td>\n",
       "      <td>male</td>\n",
       "      <td>34.5</td>\n",
       "      <td>3</td>\n",
       "      <td>0</td>\n",
       "      <td>northwest</td>\n",
       "      <td>70</td>\n",
       "      <td>0</td>\n",
       "      <td>0</td>\n",
       "      <td>60021.40</td>\n",
       "    </tr>\n",
       "    <tr>\n",
       "      <th>3</th>\n",
       "      <td>31</td>\n",
       "      <td>female</td>\n",
       "      <td>38.1</td>\n",
       "      <td>1</td>\n",
       "      <td>0</td>\n",
       "      <td>northeast</td>\n",
       "      <td>80</td>\n",
       "      <td>1</td>\n",
       "      <td>0</td>\n",
       "      <td>58571.07</td>\n",
       "    </tr>\n",
       "    <tr>\n",
       "      <th>4</th>\n",
       "      <td>33</td>\n",
       "      <td>female</td>\n",
       "      <td>59.0</td>\n",
       "      <td>0</td>\n",
       "      <td>0</td>\n",
       "      <td>northwest</td>\n",
       "      <td>50</td>\n",
       "      <td>1</td>\n",
       "      <td>0</td>\n",
       "      <td>55135.40</td>\n",
       "    </tr>\n",
       "  </tbody>\n",
       "</table>\n",
       "</div>"
      ],
      "text/plain": [
       "   age     sex   bmi  children  smoker     region  bloodpressure  diabetes  \\\n",
       "0   54  female  47.4         0       0  southeast             90         1   \n",
       "1   45    male  57.0         0       0  southeast             66         1   \n",
       "2   52    male  34.5         3       0  northwest             70         0   \n",
       "3   31  female  38.1         1       0  northeast             80         1   \n",
       "4   33  female  59.0         0       0  northwest             50         1   \n",
       "\n",
       "   regular_ex     claim  \n",
       "0           0  63770.43  \n",
       "1           0  62592.87  \n",
       "2           0  60021.40  \n",
       "3           0  58571.07  \n",
       "4           0  55135.40  "
      ]
     },
     "execution_count": 24,
     "metadata": {},
     "output_type": "execute_result"
    }
   ],
   "source": [
    "df.head()"
   ]
  },
  {
   "cell_type": "markdown",
   "id": "3065b0c3",
   "metadata": {},
   "source": [
    "**a. Shape of the data**"
   ]
  },
  {
   "cell_type": "code",
   "execution_count": 25,
   "id": "ade127fe",
   "metadata": {},
   "outputs": [
    {
     "data": {
      "text/plain": [
       "(1338, 10)"
      ]
     },
     "execution_count": 25,
     "metadata": {},
     "output_type": "execute_result"
    }
   ],
   "source": [
    "df.shape"
   ]
  },
  {
   "cell_type": "markdown",
   "id": "1b34e521",
   "metadata": {},
   "source": [
    "**b. Data types of attributes**"
   ]
  },
  {
   "cell_type": "code",
   "execution_count": 26,
   "id": "ecdd36fc",
   "metadata": {},
   "outputs": [
    {
     "name": "stdout",
     "output_type": "stream",
     "text": [
      "<class 'pandas.core.frame.DataFrame'>\n",
      "RangeIndex: 1338 entries, 0 to 1337\n",
      "Data columns (total 10 columns):\n",
      " #   Column         Non-Null Count  Dtype  \n",
      "---  ------         --------------  -----  \n",
      " 0   age            1338 non-null   int64  \n",
      " 1   sex            1338 non-null   object \n",
      " 2   bmi            1338 non-null   float64\n",
      " 3   children       1338 non-null   int64  \n",
      " 4   smoker         1338 non-null   int64  \n",
      " 5   region         1338 non-null   object \n",
      " 6   bloodpressure  1338 non-null   int64  \n",
      " 7   diabetes       1338 non-null   int64  \n",
      " 8   regular_ex     1338 non-null   int64  \n",
      " 9   claim          1338 non-null   float64\n",
      "dtypes: float64(2), int64(6), object(2)\n",
      "memory usage: 104.7+ KB\n"
     ]
    }
   ],
   "source": [
    "df.info()"
   ]
  },
  {
   "cell_type": "markdown",
   "id": "7e7f9971",
   "metadata": {},
   "source": [
    "**c. 5-point summary of the relevant attributes**"
   ]
  },
  {
   "cell_type": "code",
   "execution_count": 27,
   "id": "2225a254",
   "metadata": {},
   "outputs": [
    {
     "data": {
      "text/html": [
       "<div>\n",
       "<style scoped>\n",
       "    .dataframe tbody tr th:only-of-type {\n",
       "        vertical-align: middle;\n",
       "    }\n",
       "\n",
       "    .dataframe tbody tr th {\n",
       "        vertical-align: top;\n",
       "    }\n",
       "\n",
       "    .dataframe thead th {\n",
       "        text-align: right;\n",
       "    }\n",
       "</style>\n",
       "<table border=\"1\" class=\"dataframe\">\n",
       "  <thead>\n",
       "    <tr style=\"text-align: right;\">\n",
       "      <th></th>\n",
       "      <th>age</th>\n",
       "      <th>bmi</th>\n",
       "      <th>children</th>\n",
       "      <th>smoker</th>\n",
       "      <th>bloodpressure</th>\n",
       "      <th>diabetes</th>\n",
       "      <th>regular_ex</th>\n",
       "      <th>claim</th>\n",
       "    </tr>\n",
       "  </thead>\n",
       "  <tbody>\n",
       "    <tr>\n",
       "      <th>count</th>\n",
       "      <td>1338.000000</td>\n",
       "      <td>1338.000000</td>\n",
       "      <td>1338.000000</td>\n",
       "      <td>1338.000000</td>\n",
       "      <td>1338.000000</td>\n",
       "      <td>1338.000000</td>\n",
       "      <td>1338.000000</td>\n",
       "      <td>1338.000000</td>\n",
       "    </tr>\n",
       "    <tr>\n",
       "      <th>mean</th>\n",
       "      <td>39.207025</td>\n",
       "      <td>30.808281</td>\n",
       "      <td>1.094918</td>\n",
       "      <td>0.144245</td>\n",
       "      <td>68.977578</td>\n",
       "      <td>0.687593</td>\n",
       "      <td>0.319133</td>\n",
       "      <td>13270.422414</td>\n",
       "    </tr>\n",
       "    <tr>\n",
       "      <th>std</th>\n",
       "      <td>14.049960</td>\n",
       "      <td>6.282207</td>\n",
       "      <td>1.205493</td>\n",
       "      <td>0.351469</td>\n",
       "      <td>19.327770</td>\n",
       "      <td>0.463648</td>\n",
       "      <td>0.466315</td>\n",
       "      <td>12110.011240</td>\n",
       "    </tr>\n",
       "    <tr>\n",
       "      <th>min</th>\n",
       "      <td>18.000000</td>\n",
       "      <td>16.000000</td>\n",
       "      <td>0.000000</td>\n",
       "      <td>0.000000</td>\n",
       "      <td>0.000000</td>\n",
       "      <td>0.000000</td>\n",
       "      <td>0.000000</td>\n",
       "      <td>1121.870000</td>\n",
       "    </tr>\n",
       "    <tr>\n",
       "      <th>25%</th>\n",
       "      <td>27.000000</td>\n",
       "      <td>26.300000</td>\n",
       "      <td>0.000000</td>\n",
       "      <td>0.000000</td>\n",
       "      <td>64.000000</td>\n",
       "      <td>0.000000</td>\n",
       "      <td>0.000000</td>\n",
       "      <td>4740.287500</td>\n",
       "    </tr>\n",
       "    <tr>\n",
       "      <th>50%</th>\n",
       "      <td>39.000000</td>\n",
       "      <td>30.500000</td>\n",
       "      <td>1.000000</td>\n",
       "      <td>0.000000</td>\n",
       "      <td>72.000000</td>\n",
       "      <td>1.000000</td>\n",
       "      <td>0.000000</td>\n",
       "      <td>9382.030000</td>\n",
       "    </tr>\n",
       "    <tr>\n",
       "      <th>75%</th>\n",
       "      <td>51.000000</td>\n",
       "      <td>34.800000</td>\n",
       "      <td>2.000000</td>\n",
       "      <td>0.000000</td>\n",
       "      <td>80.000000</td>\n",
       "      <td>1.000000</td>\n",
       "      <td>1.000000</td>\n",
       "      <td>16639.915000</td>\n",
       "    </tr>\n",
       "    <tr>\n",
       "      <th>max</th>\n",
       "      <td>64.000000</td>\n",
       "      <td>62.000000</td>\n",
       "      <td>5.000000</td>\n",
       "      <td>1.000000</td>\n",
       "      <td>122.000000</td>\n",
       "      <td>1.000000</td>\n",
       "      <td>1.000000</td>\n",
       "      <td>63770.430000</td>\n",
       "    </tr>\n",
       "  </tbody>\n",
       "</table>\n",
       "</div>"
      ],
      "text/plain": [
       "               age          bmi     children       smoker  bloodpressure  \\\n",
       "count  1338.000000  1338.000000  1338.000000  1338.000000    1338.000000   \n",
       "mean     39.207025    30.808281     1.094918     0.144245      68.977578   \n",
       "std      14.049960     6.282207     1.205493     0.351469      19.327770   \n",
       "min      18.000000    16.000000     0.000000     0.000000       0.000000   \n",
       "25%      27.000000    26.300000     0.000000     0.000000      64.000000   \n",
       "50%      39.000000    30.500000     1.000000     0.000000      72.000000   \n",
       "75%      51.000000    34.800000     2.000000     0.000000      80.000000   \n",
       "max      64.000000    62.000000     5.000000     1.000000     122.000000   \n",
       "\n",
       "          diabetes   regular_ex         claim  \n",
       "count  1338.000000  1338.000000   1338.000000  \n",
       "mean      0.687593     0.319133  13270.422414  \n",
       "std       0.463648     0.466315  12110.011240  \n",
       "min       0.000000     0.000000   1121.870000  \n",
       "25%       0.000000     0.000000   4740.287500  \n",
       "50%       1.000000     0.000000   9382.030000  \n",
       "75%       1.000000     1.000000  16639.915000  \n",
       "max       1.000000     1.000000  63770.430000  "
      ]
     },
     "execution_count": 27,
     "metadata": {},
     "output_type": "execute_result"
    }
   ],
   "source": [
    "df.describe()"
   ]
  },
  {
   "cell_type": "markdown",
   "id": "990c4e9d",
   "metadata": {},
   "source": [
    "**d. Missing values**"
   ]
  },
  {
   "cell_type": "code",
   "execution_count": 28,
   "id": "97bc0772",
   "metadata": {},
   "outputs": [
    {
     "data": {
      "text/plain": [
       "age              0\n",
       "sex              0\n",
       "bmi              0\n",
       "children         0\n",
       "smoker           0\n",
       "region           0\n",
       "bloodpressure    0\n",
       "diabetes         0\n",
       "regular_ex       0\n",
       "claim            0\n",
       "dtype: int64"
      ]
     },
     "execution_count": 28,
     "metadata": {},
     "output_type": "execute_result"
    }
   ],
   "source": [
    "# missing values\n",
    "df.isnull().sum()"
   ]
  },
  {
   "cell_type": "markdown",
   "id": "c67f8c04",
   "metadata": {},
   "source": [
    "**e. Correlation among the attributes**"
   ]
  },
  {
   "cell_type": "code",
   "execution_count": 29,
   "id": "68dc00a5",
   "metadata": {},
   "outputs": [
    {
     "data": {
      "image/png": "[encoded data removed]",
      "text/plain": [
       "<Figure size 1152x432 with 2 Axes>"
      ]
     },
     "metadata": {
      "needs_background": "light"
     },
     "output_type": "display_data"
    }
   ],
   "source": [
    "# Increase the size of the heatmap.\n",
    "plt.figure(figsize=(16, 6))\n",
    "heatmap = sns.heatmap(df.corr(), annot=True)\n",
    "\n",
    "# Give a title to the heatmap.\n",
    "heatmap.set_title('Correlation Heatmap', fontdict={'fontsize':12}, pad=12);"
   ]
  },
  {
   "cell_type": "markdown",
   "id": "bf9425c4",
   "metadata": {},
   "source": [
    "**f. Outliers (display a boxplot)**"
   ]
  },
  {
   "cell_type": "code",
   "execution_count": 30,
   "id": "cf4b592c",
   "metadata": {},
   "outputs": [
    {
     "data": {
      "image/png": "[encoded data removed]",
      "text/plain": [
       "<Figure size 1152x432 with 1 Axes>"
      ]
     },
     "metadata": {
      "needs_background": "light"
     },
     "output_type": "display_data"
    }
   ],
   "source": [
    "plt.figure(figsize=(16, 6))\n",
    "ax = sns.boxplot(data=df)\n",
    "\n",
    "ax.set_title('Box Plot to all columns', fontdict={'fontsize':12}, pad=12);"
   ]
  },
  {
   "cell_type": "code",
   "execution_count": 31,
   "id": "7b9c2434",
   "metadata": {},
   "outputs": [
    {
     "data": {
      "image/png": "[encoded data removed]",
      "text/plain": [
       "<Figure size 432x288 with 1 Axes>"
      ]
     },
     "metadata": {
      "needs_background": "light"
     },
     "output_type": "display_data"
    }
   ],
   "source": [
    "ax = sns.boxplot(data=df['claim'])\n",
    "ax.set_title('Box Plot to claim ', fontdict={'fontsize':12}, pad=12);"
   ]
  },
  {
   "cell_type": "code",
   "execution_count": 32,
   "id": "211dc272",
   "metadata": {},
   "outputs": [
    {
     "data": {
      "image/png": "[encoded data removed]",
      "text/plain": [
       "<Figure size 432x288 with 1 Axes>"
      ]
     },
     "metadata": {
      "needs_background": "light"
     },
     "output_type": "display_data"
    }
   ],
   "source": [
    "ax = sns.boxplot(data=df['bmi'])\n",
    "ax.set_title('Box Plot to bmi ', fontdict={'fontsize':12}, pad=12);"
   ]
  },
  {
   "cell_type": "code",
   "execution_count": 33,
   "id": "684fa008",
   "metadata": {},
   "outputs": [
    {
     "data": {
      "image/png": "[encoded data removed]",
      "text/plain": [
       "<Figure size 432x288 with 1 Axes>"
      ]
     },
     "metadata": {
      "needs_background": "light"
     },
     "output_type": "display_data"
    }
   ],
   "source": [
    "ax = sns.boxplot(data=df['bloodpressure'])\n",
    "ax.set_title('Box Plot to bloodpressure ', fontdict={'fontsize':12}, pad=12);"
   ]
  },
  {
   "cell_type": "markdown",
   "id": "d6d627b2",
   "metadata": {},
   "source": [
    "**g. Remove outliers (using IQR)**"
   ]
  },
  {
   "cell_type": "code",
   "execution_count": 34,
   "id": "96c02163",
   "metadata": {},
   "outputs": [
    {
     "name": "stdout",
     "output_type": "stream",
     "text": [
      "claim: \n",
      "Upper whisker:  34489.35625\n",
      "Lower Whisker:  -13109.15375\n",
      "\n",
      "bmi: \n",
      "Upper whisker:  47.54999999999999\n",
      "Lower Whisker:  13.550000000000006\n",
      "\n",
      "bloodpressure: \n",
      "Upper whisker:  104.0\n",
      "Lower Whisker:  40.0\n"
     ]
    }
   ],
   "source": [
    "# remove outliers from 'claim', 'bmi', 'bloodpressure'\n",
    "def outliers(df, feature):\n",
    "    Q1 = df[feature].quantile(0.25)\n",
    "    Q3 = df[feature].quantile(0.75)\n",
    "    IQR = Q3 - Q1\n",
    "    upper_limit = Q3 + 1.5 * IQR\n",
    "    lower_limit = Q1 - 1.5 * IQR\n",
    "    return upper_limit, lower_limit\n",
    "\n",
    "upper, lower = outliers(df, \"claim\")\n",
    "u_bmi, l_bmi = outliers(df, \"bmi\")\n",
    "u_blpress, l_blpress = outliers(df, \"bloodpressure\")\n",
    "\n",
    "print(\"claim: \")\n",
    "print(\"Upper whisker: \", upper)\n",
    "print(\"Lower Whisker: \", lower)\n",
    "\n",
    "print(\"\\nbmi: \")\n",
    "print(\"Upper whisker: \", u_bmi)\n",
    "print(\"Lower Whisker: \", l_bmi)\n",
    "\n",
    "print(\"\\nbloodpressure: \")\n",
    "print(\"Upper whisker: \", u_blpress)\n",
    "print(\"Lower Whisker: \", l_blpress)\n",
    "\n",
    "df = df[(df['claim'] > lower) & (df['claim'] < upper) &\n",
    "            (df['bmi'] > l_bmi) & (df['bmi'] < u_bmi)  &\n",
    "            (df['bloodpressure'] > l_blpress) & (df['bloodpressure'] < u_blpress)]\n"
   ]
  },
  {
   "cell_type": "code",
   "execution_count": 35,
   "id": "0e575f0e",
   "metadata": {},
   "outputs": [
    {
     "data": {
      "text/html": [
       "<div>\n",
       "<style scoped>\n",
       "    .dataframe tbody tr th:only-of-type {\n",
       "        vertical-align: middle;\n",
       "    }\n",
       "\n",
       "    .dataframe tbody tr th {\n",
       "        vertical-align: top;\n",
       "    }\n",
       "\n",
       "    .dataframe thead th {\n",
       "        text-align: right;\n",
       "    }\n",
       "</style>\n",
       "<table border=\"1\" class=\"dataframe\">\n",
       "  <thead>\n",
       "    <tr style=\"text-align: right;\">\n",
       "      <th></th>\n",
       "      <th>age</th>\n",
       "      <th>sex</th>\n",
       "      <th>bmi</th>\n",
       "      <th>children</th>\n",
       "      <th>smoker</th>\n",
       "      <th>region</th>\n",
       "      <th>bloodpressure</th>\n",
       "      <th>diabetes</th>\n",
       "      <th>regular_ex</th>\n",
       "      <th>claim</th>\n",
       "    </tr>\n",
       "  </thead>\n",
       "  <tbody>\n",
       "    <tr>\n",
       "      <th>0</th>\n",
       "      <td>24</td>\n",
       "      <td>male</td>\n",
       "      <td>32.7</td>\n",
       "      <td>0</td>\n",
       "      <td>1</td>\n",
       "      <td>southwest</td>\n",
       "      <td>68</td>\n",
       "      <td>1</td>\n",
       "      <td>0</td>\n",
       "      <td>34472.84</td>\n",
       "    </tr>\n",
       "    <tr>\n",
       "      <th>1</th>\n",
       "      <td>19</td>\n",
       "      <td>female</td>\n",
       "      <td>33.1</td>\n",
       "      <td>0</td>\n",
       "      <td>1</td>\n",
       "      <td>southeast</td>\n",
       "      <td>82</td>\n",
       "      <td>0</td>\n",
       "      <td>0</td>\n",
       "      <td>34439.86</td>\n",
       "    </tr>\n",
       "    <tr>\n",
       "      <th>2</th>\n",
       "      <td>18</td>\n",
       "      <td>male</td>\n",
       "      <td>31.7</td>\n",
       "      <td>2</td>\n",
       "      <td>1</td>\n",
       "      <td>southeast</td>\n",
       "      <td>88</td>\n",
       "      <td>1</td>\n",
       "      <td>0</td>\n",
       "      <td>34303.17</td>\n",
       "    </tr>\n",
       "    <tr>\n",
       "      <th>3</th>\n",
       "      <td>24</td>\n",
       "      <td>male</td>\n",
       "      <td>31.1</td>\n",
       "      <td>0</td>\n",
       "      <td>1</td>\n",
       "      <td>northeast</td>\n",
       "      <td>74</td>\n",
       "      <td>1</td>\n",
       "      <td>0</td>\n",
       "      <td>34254.05</td>\n",
       "    </tr>\n",
       "    <tr>\n",
       "      <th>4</th>\n",
       "      <td>23</td>\n",
       "      <td>female</td>\n",
       "      <td>31.4</td>\n",
       "      <td>0</td>\n",
       "      <td>1</td>\n",
       "      <td>southwest</td>\n",
       "      <td>82</td>\n",
       "      <td>1</td>\n",
       "      <td>0</td>\n",
       "      <td>34166.27</td>\n",
       "    </tr>\n",
       "  </tbody>\n",
       "</table>\n",
       "</div>"
      ],
      "text/plain": [
       "   age     sex   bmi  children  smoker     region  bloodpressure  diabetes  \\\n",
       "0   24    male  32.7         0       1  southwest             68         1   \n",
       "1   19  female  33.1         0       1  southeast             82         0   \n",
       "2   18    male  31.7         2       1  southeast             88         1   \n",
       "3   24    male  31.1         0       1  northeast             74         1   \n",
       "4   23  female  31.4         0       1  southwest             82         1   \n",
       "\n",
       "   regular_ex     claim  \n",
       "0           0  34472.84  \n",
       "1           0  34439.86  \n",
       "2           0  34303.17  \n",
       "3           0  34254.05  \n",
       "4           0  34166.27  "
      ]
     },
     "execution_count": 35,
     "metadata": {},
     "output_type": "execute_result"
    }
   ],
   "source": [
    "# reset index\n",
    "df.reset_index(drop=True, inplace=True)\n",
    "df.head()"
   ]
  },
  {
   "cell_type": "code",
   "execution_count": 36,
   "id": "41efb86f",
   "metadata": {},
   "outputs": [
    {
     "data": {
      "text/plain": [
       "(1114, 10)"
      ]
     },
     "execution_count": 36,
     "metadata": {},
     "output_type": "execute_result"
    }
   ],
   "source": [
    "df.shape"
   ]
  },
  {
   "cell_type": "code",
   "execution_count": 37,
   "id": "469ffc44",
   "metadata": {},
   "outputs": [
    {
     "data": {
      "image/png": "[encoded data removed]",
      "text/plain": [
       "<Figure size 1152x432 with 1 Axes>"
      ]
     },
     "metadata": {
      "needs_background": "light"
     },
     "output_type": "display_data"
    }
   ],
   "source": [
    "plt.figure(figsize=(16, 6))\n",
    "ax = sns.boxplot(data=df)\n",
    "\n",
    "ax.set_title('Box Plot to all columns', fontdict={'fontsize':12}, pad=12);"
   ]
  },
  {
   "cell_type": "markdown",
   "id": "9da965e5",
   "metadata": {},
   "source": [
    "**h. Distribution of the target column(“claim”)**"
   ]
  },
  {
   "cell_type": "code",
   "execution_count": 38,
   "id": "f8f2ef32",
   "metadata": {},
   "outputs": [
    {
     "data": {
      "image/png": "[encoded data removed]",
      "text/plain": [
       "<Figure size 360x360 with 1 Axes>"
      ]
     },
     "metadata": {
      "needs_background": "light"
     },
     "output_type": "display_data"
    }
   ],
   "source": [
    "sns.displot(df, x=\"claim\", kde=True);"
   ]
  },
  {
   "cell_type": "code",
   "execution_count": 39,
   "id": "9687d639",
   "metadata": {},
   "outputs": [
    {
     "data": {
      "image/png": "[encoded data removed]",
      "text/plain": [
       "<Figure size 432x288 with 1 Axes>"
      ]
     },
     "metadata": {
      "needs_background": "light"
     },
     "output_type": "display_data"
    }
   ],
   "source": [
    "ax = sns.boxplot(y=df['claim']);\n",
    "ax.set_title('Box Plot to claim ', fontdict={'fontsize':12}, pad=12);"
   ]
  },
  {
   "cell_type": "markdown",
   "id": "97eab650",
   "metadata": {},
   "source": [
    "**2. Transform the column “claim” using log transformation (hint: use np.log(‘column’) and append the transformed column to the dataframe under the column name “log_claim” - optionally you can check the effect of the transformation by plotting histogram of “claim” before and after transformation. (2 points)**"
   ]
  },
  {
   "cell_type": "code",
   "execution_count": 40,
   "id": "e4a4f05a",
   "metadata": {},
   "outputs": [],
   "source": [
    "df['log_claim'] = np.log(df[\"claim\"])"
   ]
  },
  {
   "cell_type": "code",
   "execution_count": 41,
   "id": "39171ec0",
   "metadata": {},
   "outputs": [
    {
     "name": "stdout",
     "output_type": "stream",
     "text": [
      "Kurtosis of claim is 1.0109302183143898\n",
      "Skewness of claim is 1.1903579983713395\n",
      "\n",
      "Kurtosis of log_claim is -0.6528332368807437\n",
      "Skewness of log_claim is -0.30051357314832056\n"
     ]
    }
   ],
   "source": [
    "kurt_claim = kurtosis(df['claim'])\n",
    "skew_claim = skew(df['claim'])\n",
    "\n",
    "kurt_log = kurtosis(df['log_claim'])\n",
    "skew_log = skew(df['log_claim'])\n",
    "\n",
    "\n",
    "print(f'Kurtosis of claim is {kurt_claim}')\n",
    "print(f'Skewness of claim is {skew_claim}')\n",
    "\n",
    "print(f'\\nKurtosis of log_claim is {kurt_log}')\n",
    "print(f'Skewness of log_claim is {skew_log}')\n"
   ]
  },
  {
   "cell_type": "code",
   "execution_count": 42,
   "id": "0cbd4400",
   "metadata": {},
   "outputs": [
    {
     "data": {
      "image/png": "[encoded data removed]",
      "text/plain": [
       "<Figure size 432x288 with 1 Axes>"
      ]
     },
     "metadata": {
      "needs_background": "light"
     },
     "output_type": "display_data"
    }
   ],
   "source": [
    "ax = sns.boxplot(y=df['log_claim']);\n",
    "ax.set_title('Box Plot to log_claim ', fontdict={'fontsize':12}, pad=12);"
   ]
  },
  {
   "cell_type": "code",
   "execution_count": 43,
   "id": "ff31fe8a",
   "metadata": {},
   "outputs": [
    {
     "data": {
      "image/png": "[encoded data removed]",
      "text/plain": [
       "<Figure size 360x360 with 1 Axes>"
      ]
     },
     "metadata": {
      "needs_background": "light"
     },
     "output_type": "display_data"
    }
   ],
   "source": [
    "ax = sns.displot(df, x=\"log_claim\", kde=True);"
   ]
  },
  {
   "cell_type": "markdown",
   "id": "1604ec81",
   "metadata": {},
   "source": [
    "**3. Encode the categorical variables. In case a column has more than 2 categories,\n",
    "use one-hot encoding. (2 points)**"
   ]
  },
  {
   "cell_type": "code",
   "execution_count": 44,
   "id": "6bd85192",
   "metadata": {},
   "outputs": [],
   "source": [
    "# encode sex column with value between 0 and 1\n",
    "le = preprocessing.LabelEncoder()\n",
    "\n",
    "df['sex'] = df[['sex']].apply(le.fit_transform)"
   ]
  },
  {
   "cell_type": "code",
   "execution_count": 45,
   "id": "09a19ed8",
   "metadata": {},
   "outputs": [
    {
     "data": {
      "text/html": [
       "<div>\n",
       "<style scoped>\n",
       "    .dataframe tbody tr th:only-of-type {\n",
       "        vertical-align: middle;\n",
       "    }\n",
       "\n",
       "    .dataframe tbody tr th {\n",
       "        vertical-align: top;\n",
       "    }\n",
       "\n",
       "    .dataframe thead th {\n",
       "        text-align: right;\n",
       "    }\n",
       "</style>\n",
       "<table border=\"1\" class=\"dataframe\">\n",
       "  <thead>\n",
       "    <tr style=\"text-align: right;\">\n",
       "      <th></th>\n",
       "      <th>age</th>\n",
       "      <th>sex</th>\n",
       "      <th>bmi</th>\n",
       "      <th>children</th>\n",
       "      <th>smoker</th>\n",
       "      <th>bloodpressure</th>\n",
       "      <th>diabetes</th>\n",
       "      <th>regular_ex</th>\n",
       "      <th>claim</th>\n",
       "      <th>log_claim</th>\n",
       "      <th>northeast</th>\n",
       "      <th>northwest</th>\n",
       "      <th>southeast</th>\n",
       "      <th>southwest</th>\n",
       "    </tr>\n",
       "  </thead>\n",
       "  <tbody>\n",
       "    <tr>\n",
       "      <th>0</th>\n",
       "      <td>24</td>\n",
       "      <td>1</td>\n",
       "      <td>32.7</td>\n",
       "      <td>0</td>\n",
       "      <td>1</td>\n",
       "      <td>68</td>\n",
       "      <td>1</td>\n",
       "      <td>0</td>\n",
       "      <td>34472.84</td>\n",
       "      <td>10.447927</td>\n",
       "      <td>0</td>\n",
       "      <td>0</td>\n",
       "      <td>0</td>\n",
       "      <td>1</td>\n",
       "    </tr>\n",
       "    <tr>\n",
       "      <th>1</th>\n",
       "      <td>19</td>\n",
       "      <td>0</td>\n",
       "      <td>33.1</td>\n",
       "      <td>0</td>\n",
       "      <td>1</td>\n",
       "      <td>82</td>\n",
       "      <td>0</td>\n",
       "      <td>0</td>\n",
       "      <td>34439.86</td>\n",
       "      <td>10.446970</td>\n",
       "      <td>0</td>\n",
       "      <td>0</td>\n",
       "      <td>1</td>\n",
       "      <td>0</td>\n",
       "    </tr>\n",
       "    <tr>\n",
       "      <th>2</th>\n",
       "      <td>18</td>\n",
       "      <td>1</td>\n",
       "      <td>31.7</td>\n",
       "      <td>2</td>\n",
       "      <td>1</td>\n",
       "      <td>88</td>\n",
       "      <td>1</td>\n",
       "      <td>0</td>\n",
       "      <td>34303.17</td>\n",
       "      <td>10.442993</td>\n",
       "      <td>0</td>\n",
       "      <td>0</td>\n",
       "      <td>1</td>\n",
       "      <td>0</td>\n",
       "    </tr>\n",
       "    <tr>\n",
       "      <th>3</th>\n",
       "      <td>24</td>\n",
       "      <td>1</td>\n",
       "      <td>31.1</td>\n",
       "      <td>0</td>\n",
       "      <td>1</td>\n",
       "      <td>74</td>\n",
       "      <td>1</td>\n",
       "      <td>0</td>\n",
       "      <td>34254.05</td>\n",
       "      <td>10.441560</td>\n",
       "      <td>1</td>\n",
       "      <td>0</td>\n",
       "      <td>0</td>\n",
       "      <td>0</td>\n",
       "    </tr>\n",
       "    <tr>\n",
       "      <th>4</th>\n",
       "      <td>23</td>\n",
       "      <td>0</td>\n",
       "      <td>31.4</td>\n",
       "      <td>0</td>\n",
       "      <td>1</td>\n",
       "      <td>82</td>\n",
       "      <td>1</td>\n",
       "      <td>0</td>\n",
       "      <td>34166.27</td>\n",
       "      <td>10.438994</td>\n",
       "      <td>0</td>\n",
       "      <td>0</td>\n",
       "      <td>0</td>\n",
       "      <td>1</td>\n",
       "    </tr>\n",
       "    <tr>\n",
       "      <th>...</th>\n",
       "      <td>...</td>\n",
       "      <td>...</td>\n",
       "      <td>...</td>\n",
       "      <td>...</td>\n",
       "      <td>...</td>\n",
       "      <td>...</td>\n",
       "      <td>...</td>\n",
       "      <td>...</td>\n",
       "      <td>...</td>\n",
       "      <td>...</td>\n",
       "      <td>...</td>\n",
       "      <td>...</td>\n",
       "      <td>...</td>\n",
       "      <td>...</td>\n",
       "    </tr>\n",
       "    <tr>\n",
       "      <th>1109</th>\n",
       "      <td>18</td>\n",
       "      <td>1</td>\n",
       "      <td>34.4</td>\n",
       "      <td>0</td>\n",
       "      <td>0</td>\n",
       "      <td>55</td>\n",
       "      <td>1</td>\n",
       "      <td>0</td>\n",
       "      <td>1137.47</td>\n",
       "      <td>7.036562</td>\n",
       "      <td>0</td>\n",
       "      <td>0</td>\n",
       "      <td>1</td>\n",
       "      <td>0</td>\n",
       "    </tr>\n",
       "    <tr>\n",
       "      <th>1110</th>\n",
       "      <td>18</td>\n",
       "      <td>1</td>\n",
       "      <td>34.1</td>\n",
       "      <td>0</td>\n",
       "      <td>0</td>\n",
       "      <td>90</td>\n",
       "      <td>1</td>\n",
       "      <td>0</td>\n",
       "      <td>1137.01</td>\n",
       "      <td>7.036157</td>\n",
       "      <td>0</td>\n",
       "      <td>0</td>\n",
       "      <td>1</td>\n",
       "      <td>0</td>\n",
       "    </tr>\n",
       "    <tr>\n",
       "      <th>1111</th>\n",
       "      <td>18</td>\n",
       "      <td>1</td>\n",
       "      <td>33.7</td>\n",
       "      <td>0</td>\n",
       "      <td>0</td>\n",
       "      <td>80</td>\n",
       "      <td>1</td>\n",
       "      <td>1</td>\n",
       "      <td>1136.40</td>\n",
       "      <td>7.035621</td>\n",
       "      <td>0</td>\n",
       "      <td>0</td>\n",
       "      <td>1</td>\n",
       "      <td>0</td>\n",
       "    </tr>\n",
       "    <tr>\n",
       "      <th>1112</th>\n",
       "      <td>18</td>\n",
       "      <td>1</td>\n",
       "      <td>33.3</td>\n",
       "      <td>0</td>\n",
       "      <td>0</td>\n",
       "      <td>80</td>\n",
       "      <td>1</td>\n",
       "      <td>1</td>\n",
       "      <td>1135.94</td>\n",
       "      <td>7.035216</td>\n",
       "      <td>0</td>\n",
       "      <td>0</td>\n",
       "      <td>1</td>\n",
       "      <td>0</td>\n",
       "    </tr>\n",
       "    <tr>\n",
       "      <th>1113</th>\n",
       "      <td>18</td>\n",
       "      <td>1</td>\n",
       "      <td>30.1</td>\n",
       "      <td>0</td>\n",
       "      <td>0</td>\n",
       "      <td>64</td>\n",
       "      <td>0</td>\n",
       "      <td>0</td>\n",
       "      <td>1131.51</td>\n",
       "      <td>7.031308</td>\n",
       "      <td>0</td>\n",
       "      <td>0</td>\n",
       "      <td>1</td>\n",
       "      <td>0</td>\n",
       "    </tr>\n",
       "  </tbody>\n",
       "</table>\n",
       "<p>1114 rows × 14 columns</p>\n",
       "</div>"
      ],
      "text/plain": [
       "      age  sex   bmi  children  smoker  bloodpressure  diabetes  regular_ex  \\\n",
       "0      24    1  32.7         0       1             68         1           0   \n",
       "1      19    0  33.1         0       1             82         0           0   \n",
       "2      18    1  31.7         2       1             88         1           0   \n",
       "3      24    1  31.1         0       1             74         1           0   \n",
       "4      23    0  31.4         0       1             82         1           0   \n",
       "...   ...  ...   ...       ...     ...            ...       ...         ...   \n",
       "1109   18    1  34.4         0       0             55         1           0   \n",
       "1110   18    1  34.1         0       0             90         1           0   \n",
       "1111   18    1  33.7         0       0             80         1           1   \n",
       "1112   18    1  33.3         0       0             80         1           1   \n",
       "1113   18    1  30.1         0       0             64         0           0   \n",
       "\n",
       "         claim  log_claim  northeast  northwest  southeast  southwest  \n",
       "0     34472.84  10.447927          0          0          0          1  \n",
       "1     34439.86  10.446970          0          0          1          0  \n",
       "2     34303.17  10.442993          0          0          1          0  \n",
       "3     34254.05  10.441560          1          0          0          0  \n",
       "4     34166.27  10.438994          0          0          0          1  \n",
       "...        ...        ...        ...        ...        ...        ...  \n",
       "1109   1137.47   7.036562          0          0          1          0  \n",
       "1110   1137.01   7.036157          0          0          1          0  \n",
       "1111   1136.40   7.035621          0          0          1          0  \n",
       "1112   1135.94   7.035216          0          0          1          0  \n",
       "1113   1131.51   7.031308          0          0          1          0  \n",
       "\n",
       "[1114 rows x 14 columns]"
      ]
     },
     "execution_count": 45,
     "metadata": {},
     "output_type": "execute_result"
    }
   ],
   "source": [
    "# Get one hot encoding of columns region\n",
    "one_hot = pd.get_dummies(df['region'])\n",
    "\n",
    "# Drop column B as it is now encoded\n",
    "df = df.drop('region',axis = 1)\n",
    "\n",
    "# Join the encoded df\n",
    "df = df.join(one_hot)\n",
    "df  "
   ]
  },
  {
   "cell_type": "markdown",
   "id": "5c30f8fc",
   "metadata": {},
   "source": [
    "**4. Separate out the dependent variable(“claim”) from the independent\n",
    "variables(exclude claim and log_claim from the rest of the variables). (1 point)**"
   ]
  },
  {
   "cell_type": "code",
   "execution_count": 46,
   "id": "bc0f8415",
   "metadata": {},
   "outputs": [],
   "source": [
    "X = df.drop(['claim', 'log_claim'],axis = 1)\n",
    "Y = df['claim']\n",
    "Z = df['log_claim']"
   ]
  },
  {
   "cell_type": "markdown",
   "id": "05b83a27",
   "metadata": {},
   "source": [
    "**5. Split the data into testing and training sets (X_train, y_train, X_test, y_test). (1\n",
    "point)**"
   ]
  },
  {
   "cell_type": "code",
   "execution_count": 47,
   "id": "21e5f051",
   "metadata": {},
   "outputs": [
    {
     "name": "stdout",
     "output_type": "stream",
     "text": [
      "X_train :  746 rows , 12 columns\n",
      "X_test :  368 rows, 12 columns\n",
      "\n",
      "y_train :  746 rows\n",
      "y_test :  368 rows\n"
     ]
    }
   ],
   "source": [
    "from sklearn.model_selection import train_test_split\n",
    "\n",
    "X_train, X_test, y_train, y_test = train_test_split(X, Y, test_size=0.33, random_state=42)\n",
    "\n",
    "print(f'X_train :  {X_train.shape[0]} rows , {X_train.shape[1]} columns')\n",
    "print(f'X_test :  {X_test.shape[0]} rows, {X_test.shape[1]} columns')\n",
    "\n",
    "\n",
    "print(f'\\ny_train :  {y_train.shape[0]} rows')\n",
    "print(f'y_test :  {y_test.shape[0]} rows')"
   ]
  },
  {
   "cell_type": "code",
   "execution_count": 48,
   "id": "ab1f7031",
   "metadata": {},
   "outputs": [],
   "source": [
    "# from sklearn.preprocessing import StandardScaler\n",
    "\n",
    "# sc = StandardScaler()\n",
    "# X_train = sc.fit_transform(X_train)\n",
    "# X_test = sc.transform (X_test)"
   ]
  },
  {
   "cell_type": "markdown",
   "id": "5b012c36",
   "metadata": {},
   "source": [
    "**6. Train a linear regression model using the training data and print the r_squared value of the prediction on the test data. (2 points)**"
   ]
  },
  {
   "cell_type": "code",
   "execution_count": 49,
   "id": "bbd85b34",
   "metadata": {},
   "outputs": [
    {
     "data": {
      "text/plain": [
       "0.5891548396602004"
      ]
     },
     "execution_count": 49,
     "metadata": {},
     "output_type": "execute_result"
    }
   ],
   "source": [
    "from sklearn.linear_model import LinearRegression\n",
    "from sklearn.metrics import r2_score\n",
    "\n",
    "lin_reg = LinearRegression().fit(X_train, y_train)\n",
    "predict = lin_reg.predict(X_test)\n",
    "\n",
    "r2_score(y_test, predict)"
   ]
  },
  {
   "cell_type": "markdown",
   "id": "5ab733f6",
   "metadata": {},
   "source": [
    "**7. Plot a scatter plot between the actual values and the predicted values for the test set (because plain numbers might not give the entire picture). (1 point)**"
   ]
  },
  {
   "cell_type": "code",
   "execution_count": 50,
   "id": "c8e9bd82",
   "metadata": {},
   "outputs": [
    {
     "data": {
      "image/png": "[encoded data removed]",
      "text/plain": [
       "<Figure size 432x288 with 1 Axes>"
      ]
     },
     "metadata": {
      "needs_background": "light"
     },
     "output_type": "display_data"
    }
   ],
   "source": [
    "sns.scatterplot(x =y_test, y = predict)\n",
    "plt.title('Actual values VS Predicted values for claim')\n",
    "\n",
    "# Set x-axis and y-axis labels\n",
    "plt.xlabel('actual values(y_test)')\n",
    "plt.ylabel('predicted values');"
   ]
  },
  {
   "cell_type": "markdown",
   "id": "aaf01f6f",
   "metadata": {},
   "source": [
    "**8. Comment on the performance of the model. (1 point)**"
   ]
  },
  {
   "cell_type": "markdown",
   "id": "d5d69a38",
   "metadata": {},
   "source": [
    "**9. Repeat steps 4, 5, 6,7 and 8 except, this time use “log_claim” as your dependent variable (note: “claim” cannot be among the predictors). (5 points)**"
   ]
  },
  {
   "cell_type": "code",
   "execution_count": 51,
   "id": "78662d47",
   "metadata": {},
   "outputs": [
    {
     "name": "stdout",
     "output_type": "stream",
     "text": [
      "X_train :  746 rows , 12 columns\n",
      "X_test :  368 rows, 12 columns\n",
      "\n",
      "z_train :  746 rows\n",
      "z_test :  368 rows\n"
     ]
    }
   ],
   "source": [
    "X_train, X_test, z_train, z_test = train_test_split(X, Z, test_size=0.33, random_state=42)\n",
    "\n",
    "print(f'X_train :  {X_train.shape[0]} rows , {X_train.shape[1]} columns')\n",
    "print(f'X_test :  {X_test.shape[0]} rows, {X_test.shape[1]} columns')\n",
    "\n",
    "\n",
    "print(f'\\nz_train :  {y_train.shape[0]} rows')\n",
    "print(f'z_test :  {y_test.shape[0]} rows')"
   ]
  },
  {
   "cell_type": "code",
   "execution_count": 52,
   "id": "3d0992de",
   "metadata": {},
   "outputs": [
    {
     "data": {
      "text/plain": [
       "0.6575955160728137"
      ]
     },
     "execution_count": 52,
     "metadata": {},
     "output_type": "execute_result"
    }
   ],
   "source": [
    "from sklearn.linear_model import LinearRegression\n",
    "from sklearn.metrics import r2_score\n",
    "\n",
    "lin_reg_log = LinearRegression().fit(X_train, z_train)\n",
    "predict_log = lin_reg_log.predict(X_test)\n",
    "\n",
    "r2_score(z_test, predict_log)"
   ]
  },
  {
   "cell_type": "code",
   "execution_count": 53,
   "id": "7fb8ea6e",
   "metadata": {},
   "outputs": [
    {
     "data": {
      "image/png": "[encoded data removed]",
      "text/plain": [
       "<Figure size 432x288 with 1 Axes>"
      ]
     },
     "metadata": {
      "needs_background": "light"
     },
     "output_type": "display_data"
    }
   ],
   "source": [
    "sns.scatterplot(x =y_test, y = predict)\n",
    "plt.title('Actual values VS Predicted values for log_claim')\n",
    "\n",
    "# Set x-axis and y-axis labels\n",
    "plt.xlabel('actual values(y_test)')\n",
    "plt.ylabel('predicted values');"
   ]
  },
  {
   "cell_type": "markdown",
   "id": "ad60b5fc",
   "metadata": {},
   "source": [
    "**10. Compare the performance of the models trained using the skewed dependent variable as it is and log transformed variable - write your comments and conclude the project. (2 points)**"
   ]
  },
  {
   "cell_type": "code",
   "execution_count": 54,
   "id": "60181492",
   "metadata": {},
   "outputs": [
    {
     "name": "stdout",
     "output_type": "stream",
     "text": [
      "predict\n",
      "1.457445446724404\n",
      "1.2122910761048562\n",
      "\n",
      "predict_log\n",
      "-0.11971625240109951\n",
      "0.39200860472667476\n"
     ]
    }
   ],
   "source": [
    "print(\"predict\")\n",
    "print(kurtosis(predict))\n",
    "print(skew(predict))\n",
    "\n",
    "print(\"\\npredict_log\")\n",
    "print(kurtosis(predict_log))\n",
    "print(skew(predict_log))\n"
   ]
  }
 ],
 "metadata": {
  "kernelspec": {
   "display_name": "Python 3",
   "language": "python",
   "name": "python3"
  },
  "language_info": {
   "codemirror_mode": {
    "name": "ipython",
    "version": 3
   },
   "file_extension": ".py",
   "mimetype": "text/x-python",
   "name": "python",
   "nbconvert_exporter": "python",
   "pygments_lexer": "ipython3",
   "version": "3.8.8"
  }
 },
 "nbformat": 4,
 "nbformat_minor": 5
}
